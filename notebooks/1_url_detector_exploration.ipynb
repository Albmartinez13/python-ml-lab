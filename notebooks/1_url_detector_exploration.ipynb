{
 "cells": [
  {
   "cell_type": "code",
   "execution_count": 2,
   "id": "2c29c5e6-f799-4b78-8356-7b43ce16be15",
   "metadata": {},
   "outputs": [
    {
     "name": "stdout",
     "output_type": "stream",
     "text": [
      "Dataset loaded with 651191 rows.\n",
      "\n",
      "--- Evaluation Results ---\n",
      "Classificaation Reports:\n",
      "              precision    recall  f1-score   support\n",
      "\n",
      "           0       0.69      0.94      0.79    128431\n",
      "           1       0.60      0.17      0.27     66927\n",
      "\n",
      "    accuracy                           0.68    195358\n",
      "   macro avg       0.64      0.56      0.53    195358\n",
      "weighted avg       0.66      0.68      0.61    195358\n",
      "\n",
      "\n",
      " Confusion Matrix: \n",
      "[[120798   7633]\n",
      " [ 55365  11562]]\n"
     ]
    }
   ],
   "source": [
    "import pandas as pd\n",
    "import numpy as np\n",
    "from urllib.parse import urlparse\n",
    "from sklearn.model_selection import train_test_split\n",
    "from sklearn.linear_model import LogisticRegression\n",
    "from sklearn.metrics import classification_report, confusion_matrix\n",
    "\n",
    "# --- 1. Load Data ---\n",
    "# This assumes you have 'malicious_phish.csv' in your '../data/' folder\n",
    "df = pd.read_csv('/Users/albertomartinez/Projects/python-ml-lab/data/malicious_phish.csv')\n",
    "print(f\"Dataset loaded with {len(df)} rows.\")\n",
    "\n",
    "# --- 2. Feature Engineering --- \n",
    "# Feature 2: Total URL Length\n",
    "df['url_length'] = df['url'].apply(len)\n",
    "\n",
    "# Feature 2: Count dots\n",
    "df['num_dots'] = df['url'].apply(lambda url: url.count('.'))\n",
    "\n",
    "# Feature 3: Presence of '@' symbol \n",
    "df['has_at_symbol'] = df['url'].apply(lambda x: 0 if x == 'benign' else 1)\n",
    "\n",
    "# --- 3. Label Encoding\n",
    "df['label'] = df['type'].apply(lambda x: 0 if x == 'benign' else 1)\n",
    "\n",
    "# --- 4. Data Split for Modeling ---\n",
    "features  = [ 'url_length', 'num_dots', 'has_at_symbol']\n",
    "X = df[features]\n",
    "y = df['label']\n",
    "\n",
    "X_train, X_test, y_train, y_test, = train_test_split( X, y, test_size=0.3, random_state=42, stratify=y)\n",
    "\n",
    "# --- 5. Model Training and Evaluation ---\n",
    "model = LogisticRegression(random_state=42, solver='liblinear')\n",
    "model.fit(X_train, y_train)\n",
    "y_pred = model.predict(X_test)\n",
    "\n",
    "# --- 6. Results --- \n",
    "print(\"\\n--- Evaluation Results ---\")\n",
    "print(\"Classificaation Reports:\")\n",
    "print(classification_report(y_test, y_pred))\n",
    "print(\"\\n Confusion Matrix: \")\n",
    "print(confusion_matrix(y_test, y_pred))\n",
    "\n",
    "\n",
    "\n",
    "\n",
    "\n",
    "\n",
    "\n",
    "                                    \n",
    "\n",
    "\n"
   ]
  },
  {
   "cell_type": "code",
   "execution_count": null,
   "id": "45c5376b-7cdd-4c91-80a2-93687a38c54d",
   "metadata": {},
   "outputs": [],
   "source": []
  }
 ],
 "metadata": {
  "kernelspec": {
   "display_name": "Python 3 (ipykernel)",
   "language": "python",
   "name": "python3"
  },
  "language_info": {
   "codemirror_mode": {
    "name": "ipython",
    "version": 3
   },
   "file_extension": ".py",
   "mimetype": "text/x-python",
   "name": "python",
   "nbconvert_exporter": "python",
   "pygments_lexer": "ipython3",
   "version": "3.14.0"
  }
 },
 "nbformat": 4,
 "nbformat_minor": 5
}
